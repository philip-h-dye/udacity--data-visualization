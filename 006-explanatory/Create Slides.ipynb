{
 "cells": [
  {
   "cell_type": "code",
   "execution_count": 1,
   "metadata": {
    "slideshow": {
     "slide_type": "skip"
    }
   },
   "outputs": [],
   "source": [
    "! if [ ! output-toggle.tpl ] ; then -e wget https://video.udacity-data.com/topher/2018/March/5abe98f3_output-toggle/output-toggle.tpl ; fi"
   ]
  },
  {
   "cell_type": "code",
   "execution_count": 2,
   "metadata": {
    "slideshow": {
     "slide_type": "skip"
    }
   },
   "outputs": [
    {
     "name": "stdout",
     "output_type": "stream",
     "text": [
      "[NbConvertApp] Converting notebook Polishing Plots Slides.ipynb to slides\n",
      "[NbConvertApp] Writing 326169 bytes to Polishing Plots Slides.slides.html\n"
     ]
    }
   ],
   "source": [
    "! jupyter nbconvert 'Polishing Plots Slides.ipynb' --to slides --template output-toggle.tpl\n",
    "# --post serve # -- cannot be served here and hangs"
   ]
  },
  {
   "cell_type": "code",
   "execution_count": 3,
   "metadata": {
    "slideshow": {
     "slide_type": "skip"
    }
   },
   "outputs": [
    {
     "name": "stdout",
     "output_type": "stream",
     "text": [
      "Create Slides.ipynb\r\n",
      "data\r\n",
      "output-toggle.tpl\r\n",
      "Polishing_Plots_Practice.ipynb\r\n",
      "Polishing Plots Slides.ipynb\r\n",
      "Polishing Plots Slides.slides.html\r\n",
      "__pycache__\r\n",
      "solutions_explain.py\r\n"
     ]
    }
   ],
   "source": [
    "! ls -1"
   ]
  },
  {
   "cell_type": "code",
   "execution_count": null,
   "metadata": {
    "slideshow": {
     "slide_type": "skip"
    }
   },
   "outputs": [],
   "source": []
  }
 ],
 "metadata": {
  "kernelspec": {
   "display_name": "Python 3",
   "language": "python",
   "name": "python3"
  },
  "language_info": {
   "codemirror_mode": {
    "name": "ipython",
    "version": 3
   },
   "file_extension": ".py",
   "mimetype": "text/x-python",
   "name": "python",
   "nbconvert_exporter": "python",
   "pygments_lexer": "ipython3",
   "version": "3.6.3"
  }
 },
 "nbformat": 4,
 "nbformat_minor": 2
}
