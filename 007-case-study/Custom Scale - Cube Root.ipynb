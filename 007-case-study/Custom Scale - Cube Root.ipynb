{
 "cells": [
  {
   "cell_type": "code",
   "execution_count": 6,
   "metadata": {},
   "outputs": [],
   "source": [
    "import numpy as np\n",
    "from matplotlib import scale as mscale\n",
    "from matplotlib import transforms as mtransforms"
   ]
  },
  {
   "cell_type": "code",
   "execution_count": 7,
   "metadata": {},
   "outputs": [
    {
     "name": "stdout",
     "output_type": "stream",
     "text": [
      "numpy       1.12.1\n",
      "matplotlib  3.2.0\n"
     ]
    }
   ],
   "source": [
    "import matplotlib\n",
    "print(f'numpy       {np.__version__}')             # 1.18.1\n",
    "print(f'matplotlib  {matplotlib.__version__}')     # was 2.1.0   :  upgraded to 3.2.0\n",
    "if matplotlib.__version__ == '2.1.0' :\n",
    "    print(\"!!! Upgrading matplotlib -- newer version required\")\n",
    "    import os\n",
    "    os.system(\"pip install 'matplotlib==3.2'\")\n",
    "    print(\"!!! Restart Kernel !!!\")\n",
    "# ! pip install matplotlib          # left the version at 2.1.0 as 'Requirement already satisfied'\n",
    "# ! pip install 'matplotlib>=2.2'   # left the version at 2.1.0 as 'Requirement already satisfied'\n",
    "# ! pip install \"matplotlib==2.2\"   # worked\n",
    "# ! pip install \"matplotlib==3.2\"   # worked, also installed kiwisolver-1.1.0\n",
    "# AFTER FIRST INSTALLED, must restart kernel in order to load new version."
   ]
  },
  {
   "cell_type": "code",
   "execution_count": 8,
   "metadata": {},
   "outputs": [],
   "source": [
    "class CubeRootScale(mscale.ScaleBase):\n",
    "    \"\"\"\n",
    "    The scale function:\n",
    "      y ** (1/3)\n",
    "\n",
    "    The inverse scale function:\n",
    "      y ** 3\n",
    "    \"\"\"\n",
    "\n",
    "    # The scale class must have a member ``name`` that defines the string used\n",
    "    # to select the scale.  For example, ``gca().set_yscale(\"cuberoot\")`` would\n",
    "    # be used to select this scale.\n",
    "    name = 'cuberoot'\n",
    "\n",
    "    def __init__(self, axis, **kwargs):\n",
    "        \"\"\"\n",
    "        Any keyword arguments passed to ``set_xscale`` and ``set_yscale`` will\n",
    "        be passed along to the scale's constructor.\n",
    "        \"\"\"\n",
    "        super().__init__(axis)\n",
    "\n",
    "    def get_transform(self):\n",
    "        \"\"\"\n",
    "        Override this method to return a new instance that does the\n",
    "        actual transformation of the data.\n",
    "\n",
    "        The CubeRootTransform class is defined below as a\n",
    "        nested class of this one.\n",
    "        \"\"\"\n",
    "        return self.CubeRootTransform()\n",
    "\n",
    "    def set_default_locators_and_formatters(self, axis):\n",
    "        \"\"\"\n",
    "        Override to set up the locators and formatters to use with the\n",
    "        scale.  This is only required if the scale requires custom\n",
    "        locators and formatters.  Writing custom locators and\n",
    "        formatters is rather outside the scope of this example, but\n",
    "        there are many helpful examples in ``ticker.py``.\n",
    "        \n",
    "        Or see the MercatorLatitudeScale example on the web.\n",
    "        \"\"\"\n",
    "        pass\n",
    "\n",
    "    def limit_range_for_scale(self, vmin, vmax, minpos):\n",
    "        \"\"\"\n",
    "        Override to limit the bounds of the axis to the domain of the\n",
    "        transform.  In the case of Mercator, the bounds should be\n",
    "        limited to the threshold that was passed in.  Unlike the\n",
    "        autoscaling provided by the tick locators, this range limiting\n",
    "        will always be adhered to, whether the axis range is set\n",
    "        manually, determined automatically or changed through panning\n",
    "        and zooming.\n",
    "        \"\"\"\n",
    "        return vmin, vmax\n",
    "\n",
    "    class CubeRootTransform(mtransforms.Transform):\n",
    "        # There are two value members that must be defined.\n",
    "        # ``input_dims`` and ``output_dims`` specify number of input\n",
    "        # dimensions and output dimensions to the transformation.\n",
    "        # These are used by the transformation framework to do some\n",
    "        # error checking and prevent incompatible transformations from\n",
    "        # being connected together.  When defining transforms for a\n",
    "        # scale, which are, by definition, separable and have only one\n",
    "        # dimension, these members should always be set to 1.\n",
    "        input_dims = 1\n",
    "        output_dims = 1\n",
    "        is_separable = True\n",
    "        has_inverse = True\n",
    "\n",
    "        def __init__(self):\n",
    "            mtransforms.Transform.__init__(self)\n",
    "\n",
    "        def transform_non_affine(self, a):\n",
    "            \"\"\"\n",
    "            This transform takes an Nx1 ``numpy`` array and returns a\n",
    "            transformed copy. Importantly, the ``transform`` method *must*\n",
    "            return an array that is the same shape as the input array, since\n",
    "            these values need to remain synchronized with values in the\n",
    "            other dimension.\n",
    "            \"\"\"\n",
    "            return np.cbrt(a)\n",
    "\n",
    "        def inverted(self):\n",
    "            \"\"\"\n",
    "            Override this method so matplotlib knows how to get the\n",
    "            inverse transform for this transform.\n",
    "            \"\"\"\n",
    "            return CubeRootScale.CubeTransform()\n",
    "\n",
    "    class CubeTransform(mtransforms.Transform):\n",
    "        input_dims = 1\n",
    "        output_dims = 1\n",
    "        is_separable = True\n",
    "        has_inverse = True\n",
    "\n",
    "        def __init__(self):\n",
    "            mtransforms.Transform.__init__(self)\n",
    "\n",
    "        def transform_non_affine(self, a):\n",
    "            return a ** 3\n",
    "\n",
    "        def inverted(self):\n",
    "            return CubeRootScale.CubeRootTransform()\n",
    "\n",
    "# Now that the Scale class has been defined, it must be registered so\n",
    "# that ``matplotlib`` can find it.\n",
    "mscale.register_scale(CubeRootScale)"
   ]
  },
  {
   "cell_type": "code",
   "execution_count": 9,
   "metadata": {
    "scrolled": true
   },
   "outputs": [
    {
     "data": {
      "image/png": "[encoded data removed]",
      "text/plain": [
       "<Figure size 432x288 with 1 Axes>"
      ]
     },
     "metadata": {
      "needs_background": "light"
     },
     "output_type": "display_data"
    }
   ],
   "source": [
    "if True : # __name__ == '__main__':\n",
    "    import matplotlib.pyplot as plt\n",
    "\n",
    "    t = np.arange(-180.0, 180.0, 0.1)\n",
    "    s = np.radians(t)/2.\n",
    "\n",
    "    plt.plot(t, s, '-', lw=2)\n",
    "    plt.gca().set_yscale('cuberoot')\n",
    "\n",
    "    # plt.xlabel('Longitude')\n",
    "    # plt.ylabel('Latitude')\n",
    "    plt.title('Cube Root')\n",
    "    plt.grid(True)\n",
    "    plt.show()\n",
    "    # Stangely, sometimes only prints:  <Figure size 640x480 with 1 Axes>"
   ]
  },
  {
   "cell_type": "code",
   "execution_count": null,
   "metadata": {},
   "outputs": [],
   "source": []
  }
 ],
 "metadata": {
  "kernelspec": {
   "display_name": "Python 3",
   "language": "python",
   "name": "python3"
  },
  "language_info": {
   "codemirror_mode": {
    "name": "ipython",
    "version": 3
   },
   "file_extension": ".py",
   "mimetype": "text/x-python",
   "name": "python",
   "nbconvert_exporter": "python",
   "pygments_lexer": "ipython3",
   "version": "3.6.3"
  }
 },
 "nbformat": 4,
 "nbformat_minor": 2
}
